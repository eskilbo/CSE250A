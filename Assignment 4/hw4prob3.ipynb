{
 "cells": [
  {
   "cell_type": "markdown",
   "metadata": {},
   "source": [
    "# Problem 3 Homework 4 CSE 250A Probabilistic Reasoning & Learning"
   ]
  },
  {
   "cell_type": "markdown",
   "metadata": {},
   "source": [
    "**a)** \n",
    " \n",
    "Compute the maximum likelihood estimate of the unigram distribution $P_{u}(w)$ over words $w$. Print out\n",
    "a table of all the tokens (i.e., words) that start with the letter “M”, along with their numerical unigram\n",
    "probabilities (not counts)."
   ]
  },
  {
   "cell_type": "code",
   "execution_count": 1,
   "metadata": {},
   "outputs": [
    {
     "data": {
      "text/html": [
       "<div>\n",
       "<style scoped>\n",
       "    .dataframe tbody tr th:only-of-type {\n",
       "        vertical-align: middle;\n",
       "    }\n",
       "\n",
       "    .dataframe tbody tr th {\n",
       "        vertical-align: top;\n",
       "    }\n",
       "\n",
       "    .dataframe thead th {\n",
       "        text-align: right;\n",
       "    }\n",
       "</style>\n",
       "<table border=\"1\" class=\"dataframe\">\n",
       "  <thead>\n",
       "    <tr style=\"text-align: right;\">\n",
       "      <th></th>\n",
       "      <th>Words</th>\n",
       "      <th>Unigram Probs</th>\n",
       "    </tr>\n",
       "  </thead>\n",
       "  <tbody>\n",
       "    <tr>\n",
       "      <th>53</th>\n",
       "      <td>MILLION</td>\n",
       "      <td>0.002073</td>\n",
       "    </tr>\n",
       "    <tr>\n",
       "      <th>68</th>\n",
       "      <td>MORE</td>\n",
       "      <td>0.001709</td>\n",
       "    </tr>\n",
       "    <tr>\n",
       "      <th>76</th>\n",
       "      <td>MR.</td>\n",
       "      <td>0.001442</td>\n",
       "    </tr>\n",
       "    <tr>\n",
       "      <th>120</th>\n",
       "      <td>MOST</td>\n",
       "      <td>0.000788</td>\n",
       "    </tr>\n",
       "    <tr>\n",
       "      <th>121</th>\n",
       "      <td>MARKET</td>\n",
       "      <td>0.000780</td>\n",
       "    </tr>\n",
       "    <tr>\n",
       "      <th>125</th>\n",
       "      <td>MAY</td>\n",
       "      <td>0.000730</td>\n",
       "    </tr>\n",
       "    <tr>\n",
       "      <th>129</th>\n",
       "      <td>M.</td>\n",
       "      <td>0.000703</td>\n",
       "    </tr>\n",
       "    <tr>\n",
       "      <th>130</th>\n",
       "      <td>MANY</td>\n",
       "      <td>0.000697</td>\n",
       "    </tr>\n",
       "    <tr>\n",
       "      <th>158</th>\n",
       "      <td>MADE</td>\n",
       "      <td>0.000560</td>\n",
       "    </tr>\n",
       "    <tr>\n",
       "      <th>177</th>\n",
       "      <td>MUCH</td>\n",
       "      <td>0.000515</td>\n",
       "    </tr>\n",
       "    <tr>\n",
       "      <th>179</th>\n",
       "      <td>MAKE</td>\n",
       "      <td>0.000514</td>\n",
       "    </tr>\n",
       "    <tr>\n",
       "      <th>202</th>\n",
       "      <td>MONTH</td>\n",
       "      <td>0.000445</td>\n",
       "    </tr>\n",
       "    <tr>\n",
       "      <th>208</th>\n",
       "      <td>MONEY</td>\n",
       "      <td>0.000437</td>\n",
       "    </tr>\n",
       "    <tr>\n",
       "      <th>226</th>\n",
       "      <td>MONTHS</td>\n",
       "      <td>0.000406</td>\n",
       "    </tr>\n",
       "    <tr>\n",
       "      <th>229</th>\n",
       "      <td>MY</td>\n",
       "      <td>0.000400</td>\n",
       "    </tr>\n",
       "    <tr>\n",
       "      <th>246</th>\n",
       "      <td>MONDAY</td>\n",
       "      <td>0.000382</td>\n",
       "    </tr>\n",
       "    <tr>\n",
       "      <th>255</th>\n",
       "      <td>MAJOR</td>\n",
       "      <td>0.000371</td>\n",
       "    </tr>\n",
       "    <tr>\n",
       "      <th>274</th>\n",
       "      <td>MILITARY</td>\n",
       "      <td>0.000352</td>\n",
       "    </tr>\n",
       "    <tr>\n",
       "      <th>286</th>\n",
       "      <td>MEMBERS</td>\n",
       "      <td>0.000336</td>\n",
       "    </tr>\n",
       "    <tr>\n",
       "      <th>355</th>\n",
       "      <td>MIGHT</td>\n",
       "      <td>0.000274</td>\n",
       "    </tr>\n",
       "    <tr>\n",
       "      <th>365</th>\n",
       "      <td>MEETING</td>\n",
       "      <td>0.000266</td>\n",
       "    </tr>\n",
       "    <tr>\n",
       "      <th>369</th>\n",
       "      <td>MUST</td>\n",
       "      <td>0.000267</td>\n",
       "    </tr>\n",
       "    <tr>\n",
       "      <th>373</th>\n",
       "      <td>ME</td>\n",
       "      <td>0.000264</td>\n",
       "    </tr>\n",
       "    <tr>\n",
       "      <th>374</th>\n",
       "      <td>MARCH</td>\n",
       "      <td>0.000260</td>\n",
       "    </tr>\n",
       "    <tr>\n",
       "      <th>384</th>\n",
       "      <td>MAN</td>\n",
       "      <td>0.000253</td>\n",
       "    </tr>\n",
       "    <tr>\n",
       "      <th>402</th>\n",
       "      <td>MS.</td>\n",
       "      <td>0.000239</td>\n",
       "    </tr>\n",
       "    <tr>\n",
       "      <th>403</th>\n",
       "      <td>MINISTER</td>\n",
       "      <td>0.000240</td>\n",
       "    </tr>\n",
       "    <tr>\n",
       "      <th>459</th>\n",
       "      <td>MAKING</td>\n",
       "      <td>0.000212</td>\n",
       "    </tr>\n",
       "    <tr>\n",
       "      <th>472</th>\n",
       "      <td>MOVE</td>\n",
       "      <td>0.000210</td>\n",
       "    </tr>\n",
       "    <tr>\n",
       "      <th>478</th>\n",
       "      <td>MILES</td>\n",
       "      <td>0.000206</td>\n",
       "    </tr>\n",
       "  </tbody>\n",
       "</table>\n",
       "</div>"
      ],
      "text/plain": [
       "        Words  Unigram Probs\n",
       "53    MILLION       0.002073\n",
       "68       MORE       0.001709\n",
       "76        MR.       0.001442\n",
       "120      MOST       0.000788\n",
       "121    MARKET       0.000780\n",
       "125       MAY       0.000730\n",
       "129        M.       0.000703\n",
       "130      MANY       0.000697\n",
       "158      MADE       0.000560\n",
       "177      MUCH       0.000515\n",
       "179      MAKE       0.000514\n",
       "202     MONTH       0.000445\n",
       "208     MONEY       0.000437\n",
       "226    MONTHS       0.000406\n",
       "229        MY       0.000400\n",
       "246    MONDAY       0.000382\n",
       "255     MAJOR       0.000371\n",
       "274  MILITARY       0.000352\n",
       "286   MEMBERS       0.000336\n",
       "355     MIGHT       0.000274\n",
       "365   MEETING       0.000266\n",
       "369      MUST       0.000267\n",
       "373        ME       0.000264\n",
       "374     MARCH       0.000260\n",
       "384       MAN       0.000253\n",
       "402       MS.       0.000239\n",
       "403  MINISTER       0.000240\n",
       "459    MAKING       0.000212\n",
       "472      MOVE       0.000210\n",
       "478     MILES       0.000206"
      ]
     },
     "execution_count": 1,
     "metadata": {},
     "output_type": "execute_result"
    }
   ],
   "source": [
    "import pandas as pd\n",
    "import numpy as np\n",
    "import csv\n",
    "import matplotlib.pyplot as plt\n",
    "pd.options.mode.chained_assignment = None\n",
    "\n",
    "# Import vocabulary and unigrams as pandas dataframes\n",
    "vocab_data = pd.read_csv('hw4_vocab.txt',sep=\"\\t\",quoting=csv.QUOTE_NONE,header=None,names=[\"Words\"])\n",
    "unigram_data = pd.read_csv('hw4_unigram.txt',sep=\"\\t\", header=None,names=[\"Count\"])\n",
    "\n",
    "# Add a column for the unigram probabilities in the vocab dataframe\n",
    "vocab_data[\"Unigram Probs\"] = unigram_data[\"Count\"]/unigram_data[\"Count\"].sum()\n",
    "\n",
    "# Print the words starting with M and their probabilities\n",
    "vocab_data[vocab_data[\"Words\"].str.startswith(\"M\")]"
   ]
  },
  {
   "cell_type": "markdown",
   "metadata": {},
   "source": [
    "<div style=\"page-break-after: always;\"></div>"
   ]
  },
  {
   "cell_type": "markdown",
   "metadata": {},
   "source": [
    "**b)**\n",
    "\n",
    "Compute the maximum likelihood estimate of the bigram distribution $P_{b}(w'|w)$. Print out a table of\n",
    "the ten most likely words to follow the word “THE”, along with their numerical bigram probabilities."
   ]
  },
  {
   "cell_type": "code",
   "execution_count": 2,
   "metadata": {},
   "outputs": [
    {
     "name": "stdout",
     "output_type": "stream",
     "text": [
      "      w1   w2  count(w1,w2)  Bigram Probs\n",
      "993    4    1       2371132      0.615020\n",
      "1058   4   70         51556      0.013372\n",
      "1064   4   79         45186      0.011720\n",
      "1060   4   73         44949      0.011659\n",
      "1050   4   61         36439      0.009451\n",
      "1165   4  184         33435      0.008672\n",
      "1086   4  103         26230      0.006803\n",
      "1029   4   39         25641      0.006651\n",
      "1282   4  308         24239      0.006287\n",
      "1014   4   23         23752      0.006161\n",
      "\n",
      " We access the words from the vocab dataframe to print them out nicely\n",
      "Word: <UNK> \t \t Probability: 0.61502\n",
      "Word: U. \t \t Probability: 0.013372\n",
      "Word: FIRST \t \t Probability: 0.01172\n",
      "Word: COMPANY \t \t Probability: 0.011659\n",
      "Word: NEW \t \t Probability: 0.009451\n",
      "Word: UNITED \t \t Probability: 0.008672\n",
      "Word: GOVERNMENT \t Probability: 0.006803\n",
      "Word: NINETEEN \t \t Probability: 0.006651\n",
      "Word: SAME \t \t Probability: 0.006287\n",
      "Word: TWO \t \t Probability: 0.006161\n"
     ]
    }
   ],
   "source": [
    "# Read the bigram file as a dataframe\n",
    "bigram_data = pd.read_csv('hw4_bigram.txt',sep=\"\\t\",header=None,names=[\"w1\",\"w2\",\"count(w1,w2)\"])\n",
    "# Retrieve the index of the word \"THE\" in the previous dataframe\n",
    "index = vocab_data.index\n",
    "condition = vocab_data[\"Words\"] == \"THE\"\n",
    "the_index_list = index[condition]\n",
    "the_index = the_index_list[0]+1\n",
    "\n",
    "# Make a new dataframe with only the \"THE\" word as \"w1\" \n",
    "the_bigram = bigram_data[bigram_data[\"w1\"]==the_index]\n",
    "\n",
    "# Save the bigram probabilities as a column in the bigram dataframe\n",
    "word_sum = the_bigram[\"count(w1,w2)\"].sum()\n",
    "the_bigram[\"Bigram Probs\"] = the_bigram[\"count(w1,w2)\"]/word_sum\n",
    "the_bigram = the_bigram.sort_values(\"Bigram Probs\", ascending=False)\n",
    "ten_words_after_the = the_bigram.head(10)\n",
    "print(ten_words_after_the)\n",
    "\n",
    "print(\"\\n We access the words from the vocab dataframe to print them out nicely\")\n",
    "\n",
    "# Save words and probabilities as lists to print out nicely\n",
    "bigram_prob_list = ten_words_after_the[\"Bigram Probs\"].tolist()\n",
    "second_word = []\n",
    "# Add all second words to list to easily print out\n",
    "second_word.extend((vocab_data.loc[0,\"Words\"],vocab_data.loc[69,\"Words\"],vocab_data.loc[78,\"Words\"],vocab_data.loc[72,\"Words\"],vocab_data.loc[60,\"Words\"],vocab_data.loc[183,\"Words\"],vocab_data.loc[102,\"Words\"],vocab_data.loc[38,\"Words\"],vocab_data.loc[307,\"Words\"],vocab_data.loc[22,\"Words\"]))\n",
    "for i in range(len(second_word)):\n",
    "    if (second_word[i]==\"GOVERNMENT\"):\n",
    "        print(\"Word: {} \\t Probability: {}\".format(second_word[i], round(bigram_prob_list[i],6)))\n",
    "    else:\n",
    "        print(\"Word: {} \\t \\t Probability: {}\".format(second_word[i], round(bigram_prob_list[i],6)))\n"
   ]
  },
  {
   "cell_type": "markdown",
   "metadata": {},
   "source": [
    "<div style=\"page-break-after: always;\"></div>"
   ]
  },
  {
   "cell_type": "markdown",
   "metadata": {},
   "source": [
    "**c)**\n",
    "\n",
    "Consider the sentence **“The stock market fell by one hundred points last week.”** Ignoring punctuation,\n",
    "compute and compare the log-likelihoods of this sentence under the unigram and bigram models:\n",
    "\n",
    "$$\\mathcal{L}_{u} = log[P_{u}(\\bf(The))P_{u}(\\bf(stock))P_{u}(\\bf(market))...P_{u}(\\bf(last))P_{u}(\\bf(week))]$$\n",
    "$$\\mathcal{L}_{b} = log[P_{b}(\\bf(The|<s>))P_{b}(\\bf(stock|the))P_{b}(\\bf(market|stock))...P_{b}(\\bf(last|points))P_{b}(\\bf(week|last))]$$\n",
    "\n",
    "In the equation for the bigram log-likelihood, the token $<s>$ is used to mark the beginning of a sentence.\n",
    "Which model yields the highest log-likelihood?"
   ]
  },
  {
   "cell_type": "code",
   "execution_count": 3,
   "metadata": {},
   "outputs": [],
   "source": [
    "# I see now that I should have saved bigram probabilities for all words, so I will do that\n",
    "bigram_probs = []\n",
    "for index,row in bigram_data.iterrows():\n",
    "    bigram_probs.append(row[\"count(w1,w2)\"]/unigram_data.iloc[row[\"w1\"]-1][\"Count\"])\n",
    "bigram_data[\"Bigram Probs\"] = bigram_probs"
   ]
  },
  {
   "cell_type": "code",
   "execution_count": 4,
   "metadata": {},
   "outputs": [],
   "source": [
    "sentence1 = \"THE STOCK MARKET FELL BY ONE HUNDRED POINTS LAST WEEK\"\n",
    "sentence1 = sentence1.split()\n",
    "indeces1 = []\n",
    "for word in sentence1:\n",
    "    index = vocab_data.index\n",
    "    condition = vocab_data[\"Words\"] == word\n",
    "    word_index = index[condition]\n",
    "    indeces1.append(word_index[0])"
   ]
  },
  {
   "cell_type": "code",
   "execution_count": 5,
   "metadata": {},
   "outputs": [
    {
     "name": "stdout",
     "output_type": "stream",
     "text": [
      "Unigram log-likelihood: -64.50944\n"
     ]
    }
   ],
   "source": [
    "# Unigram log-likelihood\n",
    "Lu = 0\n",
    "for index in indeces1:\n",
    "    Lu += np.log(vocab_data.iloc[index][\"Unigram Probs\"])\n",
    "print(f\"Unigram log-likelihood: {np.round(Lu,5)}\")"
   ]
  },
  {
   "cell_type": "code",
   "execution_count": 6,
   "metadata": {},
   "outputs": [],
   "source": [
    "sentence2 = \"<s> THE STOCK MARKET FELL BY ONE HUNDRED POINTS LAST WEEK\"\n",
    "sentence2 = sentence2.split()\n",
    "indeces2 = []\n",
    "for word in sentence2:\n",
    "    index = vocab_data.index\n",
    "    condition = vocab_data[\"Words\"] == word\n",
    "    word_index = index[condition]+1\n",
    "    indeces2.append(word_index[0])"
   ]
  },
  {
   "cell_type": "code",
   "execution_count": 13,
   "metadata": {},
   "outputs": [
    {
     "name": "stdout",
     "output_type": "stream",
     "text": [
      "Bigram log-likelihood: -40.91813\n"
     ]
    }
   ],
   "source": [
    "# Bigram log-likelihood\n",
    "Lb = 0\n",
    "for i in range(len(indeces2)-1):\n",
    "    # Last word on the line is .values[0]\n",
    "    Lb+=np.log(bigram_data[(bigram_data[\"w1\"]==indeces2[i])&(bigram_data[\"w2\"]==indeces2[i+1])][\"Bigram Probs\"].values[0])\n",
    "print(f\"Bigram log-likelihood: {np.round(Lb,5)}\")"
   ]
  },
  {
   "cell_type": "markdown",
   "metadata": {},
   "source": [
    "We observe that the bigram model yields a better log-likelihood. "
   ]
  },
  {
   "cell_type": "markdown",
   "metadata": {},
   "source": [
    "<div style=\"page-break-after: always;\"></div>"
   ]
  },
  {
   "cell_type": "markdown",
   "metadata": {},
   "source": [
    "**d)**\n",
    "\n",
    "Consider the sentence **“The sixteen officials sold fire insurance.”** Ignoring punctuation,\n",
    "compute and compare the log-likelihoods of this sentence under the unigram and bigram models:\n",
    "\n",
    "$$\\mathcal{L}_{u} = log[P_{u}\\bf(The)P_{u}\\bf(sixteen)P_{u}\\bf(officials)...P_{u}\\bf(fire)P_{u}\\bf(insurance)]$$\n",
    "$$\\mathcal{L}_{b} = log[P_{b}\\bf(The|<s>)P_{b}\\bf(sixteen|the)P_{b}\\bf(officials|sixteen)...P_{b}\\bf(fire|sold)P_{b}\\bf(insurance|fire)]$$\n",
    "\n",
    "Which pairs of adjacent words in this sentence are not observed in the training corpus? What effect\n",
    "does this have on the log-likelihood from the bigram model?"
   ]
  },
  {
   "cell_type": "code",
   "execution_count": 8,
   "metadata": {},
   "outputs": [],
   "source": [
    "sentence3 = \"THE SIXTEEN OFFICIALS SOLD FIRE INSURANCE\"\n",
    "sentence3 = sentence3.split()\n",
    "indeces3 = []\n",
    "for word in sentence3:\n",
    "    index = vocab_data.index\n",
    "    condition = vocab_data[\"Words\"] == word\n",
    "    word_index = index[condition]\n",
    "    indeces3.append(word_index[0])"
   ]
  },
  {
   "cell_type": "code",
   "execution_count": 9,
   "metadata": {},
   "outputs": [
    {
     "name": "stdout",
     "output_type": "stream",
     "text": [
      "Unigram log-likelihood: -44.29193\n"
     ]
    }
   ],
   "source": [
    "# Unigram log-likelihood\n",
    "Lu = 0\n",
    "for index in indeces3:\n",
    "    Lu += np.log(vocab_data.iloc[index][\"Unigram Probs\"])\n",
    "print(f\"Unigram log-likelihood: {np.round(Lu,5)}\")"
   ]
  },
  {
   "cell_type": "code",
   "execution_count": 10,
   "metadata": {},
   "outputs": [],
   "source": [
    "sentence4 = \"<s> THE SIXTEEN OFFICIALS SOLD FIRE INSURANCE\"\n",
    "sentence4 = sentence4.split()\n",
    "indeces4 = []\n",
    "for word in sentence4:\n",
    "    index = vocab_data.index\n",
    "    condition = vocab_data[\"Words\"] == word\n",
    "    word_index = index[condition]+1\n",
    "    indeces4.append(word_index[0])"
   ]
  },
  {
   "cell_type": "code",
   "execution_count": 15,
   "metadata": {},
   "outputs": [
    {
     "name": "stdout",
     "output_type": "stream",
     "text": [
      "The combination of SIXTEEN and OFFICIALS is not present in the bigram data, resulting in log(0) which is -inf\n",
      "The combination of SOLD and FIRE is not present in the bigram data, resulting in log(0) which is -inf\n",
      "Bigram log-likelihood: -inf\n"
     ]
    }
   ],
   "source": [
    "# Bigram log-likelihood\n",
    "Lb = 0\n",
    "for i in range(len(indeces4)-1):\n",
    "    try:\n",
    "        # Last word on the line is .values[0]\n",
    "        prob = bigram_data[(bigram_data[\"w1\"]==indeces4[i])&(bigram_data[\"w2\"]==indeces4[i+1])][\"Bigram Probs\"].values[0]\n",
    "    except IndexError:\n",
    "        print(f\"The combination of {sentence4[i]} and {sentence4[i+1]} is not present in the bigram data, resulting in log(0) which is -inf\")\n",
    "        Lb = float('-inf')\n",
    "    else:\n",
    "        Lb+=np.log(prob)\n",
    "print(f\"Bigram log-likelihood: {np.round(Lb,5)}\")\n",
    "#print(f\"The combination of {sentence4[i]} and {sentence4[i+1]} is not present in the bigram data\")"
   ]
  },
  {
   "cell_type": "markdown",
   "metadata": {},
   "source": [
    "<div style=\"page-break-after: always;\"></div>"
   ]
  },
  {
   "cell_type": "markdown",
   "metadata": {},
   "source": [
    "**e)**\n",
    "\n",
    "Consider the so-called mixture model that predicts words from a weighted interpolation of the unigram\n",
    "and bigram models: $$P_{m}(w'|w) = \\lambda P_{u}(w') + (1-\\lambda)P_{b}(w'|w)$$ where $\\lambda \\in [0,1]$ determines how much weight is attached to each prediction. Under this mixture model, the log-likelihood of the sentence from part (d) is given by: $$\\mathcal{L}_{m} = log[P_{m}\\bf(The|<s>)P_{m}\\bf(sixteen|the)P_{m}\\bf(officials|sixteen) ... P_{m}\\bf(fire|sold)P_{m}\\bf(insurance|fire)].$$ Compute and plot the value of this log-likelihood $\\mathcal{L}_{m}$ as a function of the parameter $\\lambda \\in [0,1]$. From your results, deduce the optimal value of $\\lambda$ to two significant digits."
   ]
  },
  {
   "cell_type": "code",
   "execution_count": 12,
   "metadata": {},
   "outputs": [
    {
     "data": {
      "image/png": "[encoded data removed]",
      "text/plain": [
       "<Figure size 432x288 with 1 Axes>"
      ]
     },
     "metadata": {
      "needs_background": "light"
     },
     "output_type": "display_data"
    },
    {
     "name": "stdout",
     "output_type": "stream",
     "text": [
      "Highest lambda value is 0.65\n"
     ]
    }
   ],
   "source": [
    "sentence5 = \"<s> THE SIXTEEN OFFICIALS SOLD FIRE INSURANCE\"\n",
    "sentence5 = sentence5.split()\n",
    "indeces5 = []\n",
    "for word in sentence5:\n",
    "    index = vocab_data.index\n",
    "    condition = vocab_data[\"Words\"] == word\n",
    "    word_index = index[condition]+1\n",
    "    indeces5.append(word_index[0])\n",
    "\n",
    "def mixture_prob(lam, p_uni, p_bi):\n",
    "    return (np.log(lam*p_uni+(1-lam)*p_bi))\n",
    "\n",
    "def mixture_mle(sentence5, lam):\n",
    "    p = 0\n",
    "    for i in range(len(sentence5) - 1):\n",
    "        p_uni = vocab_data[vocab_data[\"Words\"]==sentence5[i+1]][\"Unigram Probs\"].values[0]\n",
    "        try:\n",
    "            # Last word on the line is .values[0]\n",
    "            p_bi=bigram_data[(bigram_data[\"w1\"]==indeces5[i])&(bigram_data[\"w2\"]==indeces5[i+1])][\"Bigram Probs\"].values[0]\n",
    "        except IndexError:\n",
    "            p_bi = 0\n",
    "        p_ = mixture_prob(lam,p_uni,p_bi)\n",
    "        p += p_\n",
    "    return p\n",
    "\n",
    "x = []\n",
    "y = []\n",
    "for i in np.linspace(0.01, 1, 100):\n",
    "    x.append(i)\n",
    "    y.append(mixture_mle(sentence5, i))\n",
    "plt.plot(x, y, 'b-.')\n",
    "plt.show()\n",
    "\n",
    "np.array(x)\n",
    "np.array(y)\n",
    "print(f\"Highest lambda value is {round(x[np.argmax(y)],2)}\")\n",
    "\n"
   ]
  },
  {
   "cell_type": "code",
   "execution_count": null,
   "metadata": {},
   "outputs": [],
   "source": []
  }
 ],
 "metadata": {
  "interpreter": {
   "hash": "40d3a090f54c6569ab1632332b64b2c03c39dcf918b08424e98f38b5ae0af88f"
  },
  "kernelspec": {
   "display_name": "Python 3",
   "language": "python",
   "name": "python3"
  },
  "language_info": {
   "codemirror_mode": {
    "name": "ipython",
    "version": 3
   },
   "file_extension": ".py",
   "mimetype": "text/x-python",
   "name": "python",
   "nbconvert_exporter": "python",
   "pygments_lexer": "ipython3",
   "version": "3.8.8"
  }
 },
 "nbformat": 4,
 "nbformat_minor": 2
}
