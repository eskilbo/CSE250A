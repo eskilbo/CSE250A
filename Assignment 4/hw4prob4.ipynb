{
 "cells": [
  {
   "cell_type": "markdown",
   "metadata": {},
   "source": [
    "# Problem 4 Homework 4 CSE 250A Probabilistic Reasoning & Learning"
   ]
  },
  {
   "cell_type": "markdown",
   "metadata": {},
   "source": [
    "**a)** \n",
    "\n",
    "How accurately can the index on one day be predicted by a linear combination of the three preceding indices? Using only data from the year 2000 , compute the linear coefficients $(a_1,a_2,a_3)$ that maximize the log-likelihood $\\mathcal{L}=\\sum_{t}{\\rm log} {P(x_t|x_{t-1},x_{t-2},x_{t-3})}$, where: $$P(x_t|x_{t-1},x_{t-2},x_{t-3}) = \\frac{1}{\\sqrt{2\\pi}}{\\rm exp}[-\\frac{1}{2}(x_{t}-a_{1}x_{t-1}-a_{2}x_{t-2}-a_{3}x_{t-3})^{2}]$$ and the sum is over business days in the year 2000 (starting from the fourth day).\n"
   ]
  },
  {
   "cell_type": "code",
   "execution_count": 1,
   "metadata": {},
   "outputs": [],
   "source": [
    "import numpy as np\n",
    "from numpy.linalg import inv\n",
    "from numpy import transpose as T\n"
   ]
  },
  {
   "cell_type": "code",
   "execution_count": 2,
   "metadata": {},
   "outputs": [
    {
     "name": "stdout",
     "output_type": "stream",
     "text": [
      "A values are (a1,a2,a3) = (0.950673,0.015601,0.031896).\n"
     ]
    }
   ],
   "source": [
    "# Initializating the matrices for X and Y\n",
    "X_2000 = []\n",
    "Y_2000 = []\n",
    "\n",
    "# Opening file and iterating through lines to predict\n",
    "with open('nasdaq00.txt','r') as f:\n",
    "    t_3 = -1\n",
    "    t_2 = -1\n",
    "    t_1 = -1\n",
    "    for line in f.readlines():\n",
    "        line = line.rstrip()\n",
    "        if t_1 != -1:\n",
    "            X_2000.append([t_3, t_2, t_1])\n",
    "            Y_2000.append(float(line))\n",
    "        t_1 = t_2\n",
    "        t_2 = t_3\n",
    "        t_3 = float(line)\n",
    "\n",
    "# Computing a values\n",
    "X_2000 = np.matrix(X_2000)\n",
    "Y_2000 = np.matrix(Y_2000).reshape(-1,1)\n",
    "a_2000 = inv(T(X_2000) * X_2000) * T(X_2000) * Y_2000\n",
    "a_1,a_2,a_3 = round(a_2000.item(0),6), round(a_2000.item(1),6), round(a_2000.item(2),6)\n",
    "print(f\"A values are (a1,a2,a3) = ({a_1},{a_2},{a_3}).\")"
   ]
  },
  {
   "cell_type": "code",
   "execution_count": 3,
   "metadata": {},
   "outputs": [],
   "source": [
    "# Initializating the matrices for X and Y\n",
    "X_2001 = []\n",
    "Y_2001 = []\n",
    "\n",
    "# Opening file and iterating through lines to predict\n",
    "with open('nasdaq01.txt','r') as f:\n",
    "    t_3 = -1\n",
    "    t_2 = -1\n",
    "    t_1 = -1\n",
    "    for line in f.readlines():\n",
    "        line = line.rstrip()\n",
    "        if t_1 != -1:\n",
    "            X_2001.append([t_3, t_2, t_1])\n",
    "            Y_2001.append(float(line))\n",
    "        t_1 = t_2\n",
    "        t_2 = t_3\n",
    "        t_3 = float(line)\n",
    "\n",
    "# Computing matrices for MSE computing\n",
    "X_2001 = np.matrix(X_2001)\n",
    "Y_2001 = np.matrix(Y_2001).reshape(-1,1)\n",
    "a_2001 = inv(T(X_2001) * X_2001) * T(X_2001) * Y_2001"
   ]
  },
  {
   "cell_type": "code",
   "execution_count": 4,
   "metadata": {},
   "outputs": [
    {
     "name": "stdout",
     "output_type": "stream",
     "text": [
      "RMSE Year 2000: 117.90844361778286\n",
      "RMSE Year 2001: 54.486240219686444\n"
     ]
    }
   ],
   "source": [
    "rmse_2000 = np.sqrt(np.square(Y_2000 - np.dot(X_2000,a_2000)).mean())\n",
    "rmse_2001 = np.sqrt(np.square(Y_2001 - np.dot(X_2001,a_2001)).mean())\n",
    "print(f\"RMSE Year 2000: {rmse_2000}\")\n",
    "print(f\"RMSE Year 2001: {rmse_2001}\")\n"
   ]
  },
  {
   "cell_type": "markdown",
   "metadata": {},
   "source": [
    "We observe that the RMSE is lower in 2001 than in 2000, so the prediction is better on paper. \n",
    "\n",
    "However, the stock market is very hard to predict, so this might just have been a coincidence. "
   ]
  }
 ],
 "metadata": {
  "interpreter": {
   "hash": "40d3a090f54c6569ab1632332b64b2c03c39dcf918b08424e98f38b5ae0af88f"
  },
  "kernelspec": {
   "display_name": "Python 3",
   "language": "python",
   "name": "python3"
  },
  "language_info": {
   "codemirror_mode": {
    "name": "ipython",
    "version": 3
   },
   "file_extension": ".py",
   "mimetype": "text/x-python",
   "name": "python",
   "nbconvert_exporter": "python",
   "pygments_lexer": "ipython3",
   "version": "3.8.8"
  }
 },
 "nbformat": 4,
 "nbformat_minor": 2
}
