{
 "cells": [
  {
   "cell_type": "code",
   "execution_count": 18,
   "metadata": {},
   "outputs": [],
   "source": [
    "import numpy as np\n",
    "import matplotlib.pyplot as plt\n",
    "import string"
   ]
  },
  {
   "cell_type": "code",
   "execution_count": 19,
   "metadata": {},
   "outputs": [],
   "source": [
    "initial = np.loadtxt(\"initialStateDistribution.txt\", dtype=float)\n",
    "transition = np.loadtxt(\"transitionMatrix.txt\", dtype=float)\n",
    "emission = np.loadtxt(\"emissionMatrix.txt\", dtype=float)\n",
    "observations = np.loadtxt(\"observations.txt\", dtype=int)"
   ]
  },
  {
   "cell_type": "code",
   "execution_count": 20,
   "metadata": {},
   "outputs": [],
   "source": [
    "n, m, T = 27, 2, 430000\n",
    "alphabet = dict(zip(range(1,28), string.ascii_lowercase + ' '))"
   ]
  },
  {
   "cell_type": "code",
   "execution_count": 21,
   "metadata": {},
   "outputs": [],
   "source": [
    "L = np.zeros((n,T))\n",
    "F = np.zeros((n,T))\n",
    "L[:,0] = np.log(initial[0]) + np.log(emission[:,observations[0]])\n",
    "F[:,0] = initial\n",
    "s = np.full(T, -1, dtype=int)"
   ]
  },
  {
   "cell_type": "code",
   "execution_count": 15,
   "metadata": {},
   "outputs": [],
   "source": [
    "def viterbi(F, L, transition, emission, observations, s):\n",
    "    # Fill F and L\n",
    "    for t in range(1,T):\n",
    "        for i in range(n):\n",
    "            logexp = L[:,t-1] + np.log(transition[:,i])\n",
    "            max = np.argmax(logexp)\n",
    "            max_logexp = logexp[max]\n",
    "            F[i,t] = max\n",
    "            L[i,t] = max_logexp + np.log(emission[i,observations[t]])\n",
    "    for t in range(T-1,-1,-1):\n",
    "        if t == T-1:\n",
    "            s[t] = np.argmax(L[:,T-1])\n",
    "        else:\n",
    "            s[t] = F[s[t+1], t+1]\n",
    "    word = []\n",
    "    for t in range(T-1):\n",
    "        if s[t] != s[t+1]:\n",
    "            word.append(alphabet.get(s[t]+1))\n",
    "    word.append(alphabet.get(s[T-1]+1))\n",
    "    word = ''.join(word)\n",
    "    return word, s"
   ]
  },
  {
   "cell_type": "code",
   "execution_count": 16,
   "metadata": {},
   "outputs": [
    {
     "data": {
      "image/png": "[encoded data removed]",
      "text/plain": [
       "<Figure size 432x288 with 1 Axes>"
      ]
     },
     "metadata": {
      "needs_background": "light"
     },
     "output_type": "display_data"
    },
    {
     "name": "stdout",
     "output_type": "stream",
     "text": [
      "a house divided against itself canot stand\n"
     ]
    }
   ],
   "source": [
    "word, S = viterbi(F, L, transition, emission,observations, s)\n",
    "plt.plot(S)\n",
    "plt.show()\n",
    "print(word)"
   ]
  },
  {
   "cell_type": "code",
   "execution_count": null,
   "metadata": {},
   "outputs": [],
   "source": []
  }
 ],
 "metadata": {
  "interpreter": {
   "hash": "aee8b7b246df8f9039afb4144a1f6fd8d2ca17a180786b69acc140d282b71a49"
  },
  "kernelspec": {
   "display_name": "Python 3.9.4 64-bit",
   "language": "python",
   "name": "python3"
  },
  "language_info": {
   "codemirror_mode": {
    "name": "ipython",
    "version": 3
   },
   "file_extension": ".py",
   "mimetype": "text/x-python",
   "name": "python",
   "nbconvert_exporter": "python",
   "pygments_lexer": "ipython3",
   "version": "3.9.4"
  },
  "orig_nbformat": 4
 },
 "nbformat": 4,
 "nbformat_minor": 2
}
