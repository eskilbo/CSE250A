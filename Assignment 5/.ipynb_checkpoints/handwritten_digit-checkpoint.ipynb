{
 "cells": [
  {
   "cell_type": "markdown",
   "metadata": {},
   "source": [
    "# Problem 5 - Handwritten digit classification"
   ]
  },
  {
   "cell_type": "markdown",
   "metadata": {},
   "source": [
    "**a)** Perform a logistic regression (using gradient ascent or Newton's method) on the images in files ***train3.txt*** and ***train5.txt***. Indicate clearly the algorithm used, and provide evidence that it has converged (or nearly converged) by plotting or printing out the log-likelihood on several iterations of the algorithm, as well as the percent error rate on the images in these files. Also, print out the 64 elements of your solution for the weight vector as an 8x8 matrix."
   ]
  },
  {
   "cell_type": "markdown",
   "metadata": {},
   "source": [
    "### **Part a**"
   ]
  },
  {
   "cell_type": "markdown",
   "metadata": {},
   "source": [
    "### **In this task, I will be using the Gradient Ascent method of logistic regression to classify handwritten digits from the MNIST database.** "
   ]
  },
  {
   "cell_type": "code",
   "execution_count": 39,
   "metadata": {},
   "outputs": [],
   "source": [
    "import numpy as np\n",
    "import matplotlib.pyplot as plt\n",
    "from pandas import *"
   ]
  },
  {
   "cell_type": "code",
   "execution_count": 40,
   "metadata": {},
   "outputs": [],
   "source": [
    "# Load files and concatenate train and test files together\n",
    "train3 = np.loadtxt('train3.txt', dtype=int)\n",
    "train5 = np.loadtxt('train5.txt', dtype=int)\n",
    "test3 = np.loadtxt('test3.txt', dtype=int)\n",
    "test5 = np.loadtxt('test5.txt', dtype=int)\n",
    "\n",
    "train = np.concatenate((train3, train5), axis=0)\n",
    "test = np.concatenate((test3, test5), axis=0)\n",
    "\n",
    "train_labels = [0] * train3.shape[0] + [1] * train5.shape[0]\n",
    "test_labels = [0] * test3.shape[0] + [1] * test5.shape[0]"
   ]
  },
  {
   "cell_type": "code",
   "execution_count": 41,
   "metadata": {},
   "outputs": [],
   "source": [
    "def sigmoid(x,w):\n",
    "    return (1.0/(1+np.exp(-np.dot(w,x))))\n",
    "\n",
    "def gradient(x,y,w):\n",
    "    return(np.multiply((y - sigmoid(w, x)), x))\n",
    "\n",
    "def loglikelihood(x,y,w):\n",
    "    return (y * np.log(sigmoid(w,x)) + (1-y) * np.log(1-sigmoid(w,x)))"
   ]
  },
  {
   "cell_type": "code",
   "execution_count": 42,
   "metadata": {},
   "outputs": [],
   "source": [
    "def error_prediction(data, labels, w):\n",
    "    correct = 0\n",
    "    for t in range(data.shape[0]):\n",
    "        sig = sigmoid(w, data[t])\n",
    "        if (labels[t]==1 and sig>=0.5) or (labels[t]==0 and sig<0.5):\n",
    "            correct += 1\n",
    "    error = (data.shape[0] - correct)*1.0 / data.shape[0]\n",
    "    return error\n",
    "\n",
    "def gradient_ascent(data, labels, steps):\n",
    "    alpha = 0.0002\n",
    "    weights = np.zeros(data.shape[1])\n",
    "    likelihood_weights = []\n",
    "    errors = []\n",
    "\n",
    "    for i in range(steps):\n",
    "        lw_sum = 0\n",
    "        grad = 0\n",
    "        for j in range(data.shape[0]):\n",
    "            lw_sum += loglikelihood(data[j],labels[j],weights)\n",
    "            grad += gradient(data[j],labels[j],weights)\n",
    "        weights = weights + alpha * grad\n",
    "        likelihood_weights.append(lw_sum)\n",
    "        errors.append(error_prediction(data,labels,weights))\n",
    "    return weights, likelihood_weights, errors\n"
   ]
  },
  {
   "cell_type": "markdown",
   "metadata": {},
   "source": [
    "**Log-likelihood and error output**"
   ]
  },
  {
   "cell_type": "code",
   "execution_count": 43,
   "metadata": {},
   "outputs": [
    {
     "data": {
      "image/png": "[encoded data removed]",
      "text/plain": [
       "<Figure size 432x288 with 1 Axes>"
      ]
     },
     "metadata": {
      "needs_background": "light"
     },
     "output_type": "display_data"
    },
    {
     "data": {
      "image/png": "[encoded data removed]",
      "text/plain": [
       "<Figure size 432x288 with 1 Axes>"
      ]
     },
     "metadata": {
      "needs_background": "light"
     },
     "output_type": "display_data"
    }
   ],
   "source": [
    "steps = 5000\n",
    "weights, likelihood_weights, errors = gradient_ascent(train, train_labels, steps)\n",
    "plt.plot(likelihood_weights, 'r-')\n",
    "plt.xlabel(\"Iterations\")\n",
    "plt.title(\"Log-likelihood\")\n",
    "plt.show()\n",
    "plt.plot(errors, 'r-')\n",
    "plt.xlabel(\"Iterations\")\n",
    "plt.title(\"Errors\")\n",
    "plt.show()"
   ]
  },
  {
   "cell_type": "markdown",
   "metadata": {},
   "source": [
    "**Weight matrix**"
   ]
  },
  {
   "cell_type": "code",
   "execution_count": 44,
   "metadata": {},
   "outputs": [
    {
     "name": "stdout",
     "output_type": "stream",
     "text": [
      "-0.8797974\t-1.4877361\t-1.1609024\t-1.2031431\t-0.711716\t-0.8885907\t0.8056814\t1.7719741\n",
      "0.0007422\t-0.1388434\t0.2383485\t-0.0676125\t-0.4321559\t0.7737291\t-1.3078541\t-1.3306284\n",
      "3.5719539\t1.3666871\t1.4310638\t0.1802701\t0.733658\t-2.0656259\t-2.4048238\t-2.5712567\n",
      "0.7751998\t0.3807532\t0.6289521\t-0.3051188\t-0.4752028\t-2.3491697\t0.4132579\t-0.0314203\n",
      "0.521081\t1.1247831\t0.0576895\t-0.3606556\t-0.639655\t-0.1502495\t-0.4792577\t-0.2629605\n",
      "1.1833087\t-0.2161415\t-0.3391773\t-0.1164656\t0.0660542\t-0.9162373\t0.8473631\t-1.5487284\n",
      "1.4700634\t-0.6591165\t1.299139\t0.5986168\t0.4468133\t-0.348847\t0.1911971\t-1.2810957\n",
      "0.5834873\t0.2840508\t0.8985841\t1.9238005\t0.4840218\t0.6502586\t0.6400514\t-0.4983526\n"
     ]
    }
   ],
   "source": [
    "print('\\n'.join(['\\t'.join([str(round(cell,7)) for cell in row]) for row in weights.reshape([8,8])]))"
   ]
  },
  {
   "cell_type": "markdown",
   "metadata": {},
   "source": [
    "### **Part b**"
   ]
  },
  {
   "cell_type": "code",
   "execution_count": 45,
   "metadata": {},
   "outputs": [
    {
     "name": "stdout",
     "output_type": "stream",
     "text": [
      "Error rate on test3 images:\n",
      "0.065\n",
      "Error rate on test5 images:\n",
      "0.055\n"
     ]
    }
   ],
   "source": [
    "print(\"Error rate on test3 images:\")\n",
    "print(error_prediction(test3, [0] * test3.shape[0], weights))\n",
    "\n",
    "print(\"Error rate on test5 images:\")\n",
    "print(error_prediction(test5, [1] * test5.shape[0], weights))"
   ]
  }
 ],
 "metadata": {
  "interpreter": {
   "hash": "40d3a090f54c6569ab1632332b64b2c03c39dcf918b08424e98f38b5ae0af88f"
  },
  "kernelspec": {
   "display_name": "Python 3",
   "language": "python",
   "name": "python3"
  },
  "language_info": {
   "codemirror_mode": {
    "name": "ipython",
    "version": 3
   },
   "file_extension": ".py",
   "mimetype": "text/x-python",
   "name": "python",
   "nbconvert_exporter": "python",
   "pygments_lexer": "ipython3",
   "version": "3.8.8"
  }
 },
 "nbformat": 4,
 "nbformat_minor": 2
}
